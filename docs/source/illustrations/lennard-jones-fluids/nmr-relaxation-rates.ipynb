{
 "cells": [
  {
   "cell_type": "code",
   "execution_count": null,
   "id": "15134151",
   "metadata": {},
   "outputs": [],
   "source": [
    "from matplotlib.pyplot import cm\n",
    "from matplotlib.colors import LinearSegmentedColormap\n",
    "import numpy as np\n",
    "from scipy import constants as cst\n",
    "import sys, os, git\n",
    "import warnings\n",
    "warnings.filterwarnings(\"ignore\")"
   ]
  },
  {
   "cell_type": "code",
   "execution_count": null,
   "id": "af4ae0cd",
   "metadata": {},
   "outputs": [],
   "source": [
    "current_path = os.getcwd()\n",
    "git_repo = git.Repo(current_path, search_parent_directories=True)\n",
    "git_path = git_repo.git.rev_parse(\"--show-toplevel\")\n",
    "path_figures = current_path[len(git_path):] + '/'\n",
    "path_in_folder = current_path[len(git_path)+1:]"
   ]
  },
  {
   "cell_type": "code",
   "execution_count": null,
   "id": "9a1e0bcf",
   "metadata": {},
   "outputs": [],
   "source": [
    "sys.path.append(git_path + \"/.submodules/pyplot-perso\")\n",
    "from plttools import PltTools"
   ]
  },
  {
   "cell_type": "code",
   "execution_count": null,
   "id": "0183a3a1",
   "metadata": {},
   "outputs": [],
   "source": [
    "data_path = git_path + \"/.submodules/dataset-LJ-fluid/analysis/\"\n",
    "all_temperatures = np.array([0.8, 1.0, 1.2, 1.5, 1.8, 2.2, 2.6, 3.0]) # unitless\n",
    "ref_time = 463.7943 # LJ time in fs\n",
    "ref_temp = 50.3219 # LJ temp in K\n",
    "cmap_cool = cm.cool\n",
    "cmap_dark_blue_to_cyan = LinearSegmentedColormap.from_list('dark_blue_to_cyan', ['#1D11CB', cmap_cool(0.0)])\n",
    "cmap_dark_blue_to_pink = LinearSegmentedColormap.from_list('dark_blue_to_cyan', ['#1D11CB', cmap_cool(1.0)])"
   ]
  },
  {
   "cell_type": "code",
   "execution_count": null,
   "id": "423f23d4",
   "metadata": {},
   "outputs": [],
   "source": [
    "filename = \"nmr-relaxation-rates-spectra\"\n",
    "colors = cmap_cool(np.linspace(0, 1, len(all_temperatures)))\n",
    "\n",
    "for dark_mode in [False, True]:\n",
    "\n",
    "    myplt = PltTools()\n",
    "    myplt.prepare_figure(fig_size = (18,6), dark_mode = dark_mode,\n",
    "                         transparency = True, use_serif=True, n_colone = 2)\n",
    "    # Panel 1\n",
    "    myplt.add_panel()\n",
    "    for T, color in zip(all_temperatures, colors):\n",
    "        f, R1 = np.loadtxt(data_path+f\"T{T}/R1_vs_f.dat\").T\n",
    "        if ((T == all_temperatures[0]) | (T == all_temperatures[-1])):\n",
    "            myplt.add_plot(x = f, y = R1*1000, type = \"loglog\", linewidth_data = 3,\n",
    "                        marker = \"o\", data_color = color[:3], markersize = 12,\n",
    "                        data_label = f'$T = {np.int32(T*ref_temp)}~\\mathrm K$')\n",
    "        else:\n",
    "            myplt.add_plot(x = f, y = R1*1000, type = \"loglog\", linewidth_data = 3,\n",
    "                        marker = \"o\", data_color = color[:3], markersize = 12) \n",
    "    myplt.complete_panel(ylabel = r'$R_1~(\\mathrm{ms}^{-1})$', xlabel = r'$f~(\\mathrm{MHz})$',\n",
    "                         xpad = 15, legend=True, handlelength_legend=1)\n",
    "    myplt.set_boundaries(x_boundaries=(2e4, 3e7), y_boundaries=(4e-2, 2e1))\n",
    "    # Panel 2\n",
    "    myplt.add_panel()\n",
    "    for T, color in zip(all_temperatures, colors):\n",
    "        f, R2 = np.loadtxt(data_path+f\"T{T}/R2_vs_f.dat\").T\n",
    "        if ((T == all_temperatures[0]) | (T == all_temperatures[-1])):\n",
    "            myplt.add_plot(x = f, y = R2*1000, type = \"loglog\", linewidth_data = 3,\n",
    "                        marker = \"o\", data_color = color[:3], markersize = 12,\n",
    "                        data_label = f'$T = {np.int32(T*ref_temp)}~\\mathrm K$')\n",
    "        else:\n",
    "            myplt.add_plot(x = f, y = R2*1000, type = \"loglog\", linewidth_data = 3,\n",
    "                        marker = \"o\", data_color = color[:3], markersize = 12) \n",
    "    myplt.complete_panel(ylabel = r'$R_2~(\\mathrm{ms}^{-1})$', xlabel = r'$f~(\\mathrm{MHz})$',\n",
    "                         xpad = 15, legend=True, handlelength_legend=1)\n",
    "    myplt.set_boundaries(x_boundaries=(2e4, 3e7), y_boundaries=(4e-1, 2e1))\n",
    "    myplt.add_subplotlabels(type_label_panel = \"A\")\n",
    "    myplt.save_figure(filename = filename, saving_path = git_path+path_figures)\n"
   ]
  },
  {
   "cell_type": "code",
   "execution_count": null,
   "id": "9da8f200",
   "metadata": {},
   "outputs": [],
   "source": [
    "spin = 0.5\n",
    "GAMMA = 2 * np.pi * 42.6e6\n",
    "K = (3 / 2) * (cst.mu_0 / 4 / np.pi) ** 2 \\\n",
    "    * cst.hbar ** 2 * GAMMA ** 4 * spin * (1 + spin)  # m6 / s2"
   ]
  },
  {
   "cell_type": "code",
   "execution_count": null,
   "id": "fe245769",
   "metadata": {},
   "outputs": [],
   "source": [
    "filename = \"nmr-relaxation-rates-at-target\"\n",
    "colors = cmap_dark_blue_to_pink(np.linspace(0, 1, 50))\n",
    "\n",
    "T_grivet, R1_grivet = np.loadtxt(\"grivet-2005-data/data-R1-R2/R1.dat\").T\n",
    "R1_grivet *= K / (3e-10)**6 * (ref_time*1e-15) /6 \n",
    "T_grivet, R2_grivet = np.loadtxt(\"grivet-2005-data/data-R1-R2/R2.dat\").T\n",
    "R2_grivet *= K / (3e-10)**6 * (ref_time*1e-15) / 6\n",
    "_, R1 = np.loadtxt(data_path+f\"R1_vs_temperature.dat\").T\n",
    "T, R2 = np.loadtxt(data_path+f\"R2_vs_temperature.dat\").T\n",
    "\n",
    "for dark_mode in [False, True]:\n",
    "\n",
    "    myplt = PltTools()\n",
    "    myplt.prepare_figure(fig_size = (18,6), dark_mode = dark_mode,\n",
    "                         transparency = True, use_serif=True, n_colone = 2)\n",
    "    # Panel 1\n",
    "    myplt.add_panel()\n",
    "    myplt.add_plot(x = T_grivet*ref_temp, y = R1_grivet*1000, type = \"plot\", linewidth_data = 3,\n",
    "                marker = \"o\", data_color = np.array([0.5, 0.5, 0.5]), markersize = 14)\n",
    "    myplt.add_plot(x = T_grivet*ref_temp, y = R2_grivet*1000, type = \"plot\", linewidth_data = 3,\n",
    "                marker = \"s\", data_color = np.array([0.5, 0.5, 0.5]), markersize = 14)\n",
    "    myplt.add_plot(x = T*ref_temp, y = R1*1000, type = \"plot\", linewidth_data = 3,\n",
    "                marker = \"o\", data_color = colors[0][:-1], markersize = 14, data_label = r'$R_1$')\n",
    "    myplt.add_plot(x = T*ref_temp, y = R2*1000, type = \"plot\", linewidth_data = 3,\n",
    "                marker = \"o\", data_color = colors[-1][:-1], markersize = 14, data_label = r'$R_2$')\n",
    "    myplt.complete_panel(ylabel = r'$R_1, ~ R_2~(\\mathrm{ms}^{-1})$', xlabel = r'$T~(\\mathrm{K})$',\n",
    "                         xpad = 15, legend=True, handlelength_legend=1)\n",
    "    myplt.set_boundaries(x_boundaries=(20, 160), y_boundaries=(0, 6))\n",
    "    # myplt.add_subplotlabels(type_label_panel = \"A\")\n",
    "    myplt.save_figure(filename = filename, saving_path = git_path+path_figures)"
   ]
  }
 ],
 "metadata": {
  "kernelspec": {
   "display_name": "Python 3",
   "language": "python",
   "name": "python3"
  },
  "language_info": {
   "codemirror_mode": {
    "name": "ipython",
    "version": 3
   },
   "file_extension": ".py",
   "mimetype": "text/x-python",
   "name": "python",
   "nbconvert_exporter": "python",
   "pygments_lexer": "ipython3",
   "version": "3.12.3"
  }
 },
 "nbformat": 4,
 "nbformat_minor": 5
}
