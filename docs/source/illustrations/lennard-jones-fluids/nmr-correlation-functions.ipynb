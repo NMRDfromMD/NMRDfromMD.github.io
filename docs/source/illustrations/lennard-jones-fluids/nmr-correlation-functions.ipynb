{
 "cells": [
  {
   "cell_type": "code",
   "execution_count": null,
   "id": "15134151",
   "metadata": {},
   "outputs": [],
   "source": [
    "from matplotlib.pyplot import cm\n",
    "from matplotlib.colors import LinearSegmentedColormap\n",
    "import numpy as np\n",
    "from scipy import constants as cst\n",
    "import sys, os, git\n",
    "import warnings\n",
    "warnings.filterwarnings(\"ignore\")"
   ]
  },
  {
   "cell_type": "code",
   "execution_count": null,
   "id": "af4ae0cd",
   "metadata": {},
   "outputs": [],
   "source": [
    "current_path = os.getcwd()\n",
    "git_repo = git.Repo(current_path, search_parent_directories=True)\n",
    "git_path = git_repo.git.rev_parse(\"--show-toplevel\")\n",
    "path_figures = current_path[len(git_path):] + '/'\n",
    "path_in_folder = current_path[len(git_path)+1:]"
   ]
  },
  {
   "cell_type": "code",
   "execution_count": null,
   "id": "9a1e0bcf",
   "metadata": {},
   "outputs": [],
   "source": [
    "sys.path.append(git_path + \"/.submodules/pyplot-perso\")\n",
    "from plttools import PltTools"
   ]
  },
  {
   "cell_type": "code",
   "execution_count": null,
   "id": "0183a3a1",
   "metadata": {},
   "outputs": [],
   "source": [
    "data_path = git_path + \"/.submodules/dataset-LJ-fluid/analysis/\"\n",
    "all_temperatures = np.array([0.8, 1.0, 1.2, 1.5, 1.8, 2.2, 2.6, 3.0]) # unitless\n",
    "ref_time = 463.7943 # LJ time in fs\n",
    "ref_temp = 50.3219 # LJ temp in K\n",
    "sigma = 3 # LJ sigma A\n",
    "cmap_cool = cm.cool\n",
    "cmap_dark_blue_to_cyan = LinearSegmentedColormap.from_list('dark_blue_to_cyan', ['#1D11CB', cmap_cool(0.0)])\n",
    "cmap_dark_blue_to_pink = LinearSegmentedColormap.from_list('dark_blue_to_cyan', ['#1D11CB', cmap_cool(1.0)])"
   ]
  },
  {
   "cell_type": "code",
   "execution_count": null,
   "id": "5afed1f7",
   "metadata": {},
   "outputs": [],
   "source": [
    "t_grivet_08, Gij_Grivet_08 = np.loadtxt(\"grivet-2005-data/data-G/T0.8.dat\").T\n",
    "t_grivet_08 *= ref_time*1e-3\n",
    "Gij_Grivet_08 /= sigma**6,\n",
    "t_grivet_30, Gij_Grivet_30 = np.loadtxt(\"grivet-2005-data/data-G/T3.0.dat\").T\n",
    "t_grivet_30 *= ref_time*1e-3\n",
    "Gij_Grivet_30 /= sigma**6,"
   ]
  },
  {
   "cell_type": "code",
   "execution_count": null,
   "id": "af619e8d",
   "metadata": {},
   "outputs": [],
   "source": [
    "filename = \"nmr-correlation-functions\"\n",
    "colors = cmap_cool(np.linspace(0, 1, len(all_temperatures)))\n",
    "\n",
    "for dark_mode in [False, True]:\n",
    "\n",
    "    myplt = PltTools()\n",
    "    myplt.prepare_figure(fig_size = (18,6), dark_mode = dark_mode,\n",
    "                         transparency = True, use_serif=True, n_colone = 2)\n",
    "    # Panel 1\n",
    "    myplt.add_panel()\n",
    "    for T, color in zip(all_temperatures, colors):\n",
    "        t, Gij = np.loadtxt(data_path+f\"T{T}/Gij_vs_t.dat\").T\n",
    "        if ((T == all_temperatures[0]) | (T == all_temperatures[-1])):\n",
    "            myplt.add_plot(x = t, y = Gij, type = \"loglog\", linewidth_data = 3,\n",
    "                        marker = \"o\", data_color = color[:3], markersize = 12,\n",
    "                        data_label = f'$T = {np.int32(T*ref_temp)}~\\mathrm K$')\n",
    "        else:\n",
    "            myplt.add_plot(x = t, y = Gij, type = \"loglog\", linewidth_data = 3,\n",
    "                        marker = \"o\", data_color = color[:3], markersize = 12) \n",
    "    x = np.logspace(np.log10(0.5), np.log10(4))\n",
    "    myplt.add_plot(x = x, y = x**(-3/2)/10000, type = \"loglog\", linewidth_data = 2,  marker = \"--\",\n",
    "                   data_color = np.array([0.5, 0.5, 0.5]))\n",
    "    myplt.complete_panel(ylabel = r'$G_{ij}~(\\mathrm{\\AA{}}^{-6})$', xlabel = r'$t~(\\mathrm{ps})$',\n",
    "                         xpad = 15, legend=True, handlelength_legend=1)\n",
    "    myplt.set_boundaries(x_boundaries=(0.006, 30), y_boundaries=(2e-6, 0.02))\n",
    "    # Panel 2\n",
    "    myplt.add_panel()\n",
    "    myplt.add_plot(x = t_grivet_08, y = Gij_Grivet_08, type = \"loglog\", linewidth_data = 3,\n",
    "            marker = \"o\", data_color = np.array([0.5, 0.5, 0.5]), markersize = 12)\n",
    "    myplt.add_plot(x = t_grivet_30, y = Gij_Grivet_30, type = \"loglog\", linewidth_data = 3,\n",
    "            marker = \"o\", data_color = np.array([0.5, 0.5, 0.5]), markersize = 12)\n",
    "    for T, color in zip(all_temperatures, colors):\n",
    "        t, Gij = np.loadtxt(data_path+f\"T{T}/Gij_vs_t.dat\").T\n",
    "        if ((T == all_temperatures[0]) | (T == all_temperatures[-1])):\n",
    "            myplt.add_plot(x = t, y = Gij, type = \"loglog\", linewidth_data = 3,\n",
    "                        marker = \"o\", data_color = color[:3], markersize = 12,\n",
    "                        data_label = f'$T = {np.int32(T*ref_temp)}~\\mathrm K$')\n",
    "    x = np.logspace(np.log10(0.5), np.log10(4))\n",
    "    myplt.add_plot(x = x, y = x**(-3/2)/10000, type = \"loglog\", linewidth_data = 2,  marker = \"--\",\n",
    "                   data_color = np.array([0.5, 0.5, 0.5]))\n",
    "    myplt.complete_panel(ylabel = r'$G_{ij}~(\\mathrm{\\AA{}}^{-6})$', xlabel = r'$t~(\\mathrm{ps})$',\n",
    "                         xpad = 15, legend=True, handlelength_legend=1)\n",
    "    myplt.set_boundaries(x_boundaries=(0.006, 30), y_boundaries=(2e-6, 0.02))\n",
    "    myplt.add_subplotlabels(type_label_panel = \"A\")\n",
    "    myplt.save_figure(filename = filename, saving_path = git_path+path_figures)"
   ]
  }
 ],
 "metadata": {
  "kernelspec": {
   "display_name": "Python 3",
   "language": "python",
   "name": "python3"
  },
  "language_info": {
   "codemirror_mode": {
    "name": "ipython",
    "version": 3
   },
   "file_extension": ".py",
   "mimetype": "text/x-python",
   "name": "python",
   "nbconvert_exporter": "python",
   "pygments_lexer": "ipython3",
   "version": "3.12.3"
  }
 },
 "nbformat": 4,
 "nbformat_minor": 5
}
